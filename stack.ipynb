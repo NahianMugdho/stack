{
 "cells": [
  {
   "cell_type": "code",
   "execution_count": 2,
   "metadata": {},
   "outputs": [],
   "source": [
    "stack = []\n",
    "\n",
    "# Push\n"
   ]
  },
  {
   "cell_type": "code",
   "execution_count": 3,
   "metadata": {},
   "outputs": [
    {
     "name": "stdout",
     "output_type": "stream",
     "text": [
      "Stack:  ['A', 'B', 'C']\n"
     ]
    }
   ],
   "source": [
    "stack.append('A')\n",
    "stack.append('B')\n",
    "stack.append('C')\n",
    "print(\"Stack: \", stack)"
   ]
  },
  {
   "cell_type": "code",
   "execution_count": 3,
   "metadata": {},
   "outputs": [],
   "source": [
    "li=[]\n"
   ]
  },
  {
   "cell_type": "code",
   "execution_count": 7,
   "metadata": {},
   "outputs": [
    {
     "name": "stdout",
     "output_type": "stream",
     "text": [
      "[1, 1, 1, 2, 1]\n"
     ]
    }
   ],
   "source": [
    "li.append(1)\n",
    "li.append(2)\n",
    "li.pop()\n",
    "print(li)"
   ]
  },
  {
   "cell_type": "code",
   "execution_count": 11,
   "metadata": {},
   "outputs": [
    {
     "ename": "IndexError",
     "evalue": "pop from empty list",
     "output_type": "error",
     "traceback": [
      "\u001b[1;31m---------------------------------------------------------------------------\u001b[0m",
      "\u001b[1;31mIndexError\u001b[0m                                Traceback (most recent call last)",
      "Cell \u001b[1;32mIn[11], line 1\u001b[0m\n\u001b[1;32m----> 1\u001b[0m \u001b[43mli\u001b[49m\u001b[38;5;241;43m.\u001b[39;49m\u001b[43mpop\u001b[49m\u001b[43m(\u001b[49m\u001b[43m)\u001b[49m\n\u001b[0;32m      2\u001b[0m \u001b[38;5;28mprint\u001b[39m(li)\n\u001b[0;32m      3\u001b[0m li\u001b[38;5;241m.\u001b[39mpop()\n",
      "\u001b[1;31mIndexError\u001b[0m: pop from empty list"
     ]
    }
   ],
   "source": [
    "li.pop()\n",
    "print(li)\n",
    "li.pop()\n",
    "print(li)"
   ]
  },
  {
   "cell_type": "code",
   "execution_count": 15,
   "metadata": {},
   "outputs": [],
   "source": [
    "#stack class\n",
    "class Stack:\n",
    "    def __init__(self) :\n",
    "        self.items=[]\n",
    "    def push(self,item):\n",
    "        self.items.append(item)\n",
    "    def pop(self):\n",
    "        return self.items.pop()\n",
    "    def is_empty(self):\n",
    "        if self.items == []:\n",
    "            return True\n",
    "        return False\n",
    "    def stack_print(self):\n",
    "        print(self.items)\n",
    "                "
   ]
  },
  {
   "cell_type": "code",
   "execution_count": 20,
   "metadata": {},
   "outputs": [
    {
     "name": "stdout",
     "output_type": "stream",
     "text": [
      "[1, 2, 3]\n",
      "3\n",
      "2\n",
      "1\n"
     ]
    }
   ],
   "source": [
    "s = Stack()\n",
    "s.push(1)\n",
    "s.push(2)\n",
    "s.push(3)\n",
    "s.stack_print()\n",
    "while not s.is_empty():\n",
    "    item = s.pop()\n",
    "    print(item)"
   ]
  },
  {
   "cell_type": "markdown",
   "metadata": {},
   "source": [
    "This code checks if the brackets (like ( and )) in a sentence are balanced. Balanced means that every opening bracket ( has a matching closing bracket )."
   ]
  },
  {
   "cell_type": "code",
   "execution_count": 21,
   "metadata": {},
   "outputs": [],
   "source": [
    "def is_balanced(input_str):\n",
    "    s = list()\n",
    "    \n",
    "    for ch in input_str:\n",
    "        if ch == '(':\n",
    "            s.append(ch)\n",
    "        if ch == ')':\n",
    "            if not s:\n",
    "                return  False\n",
    "            s.pop()\n",
    "    return not s"
   ]
  },
  {
   "cell_type": "code",
   "execution_count": 23,
   "metadata": {},
   "outputs": [
    {
     "name": "stdout",
     "output_type": "stream",
     "text": [
      "Not Balanced\n"
     ]
    }
   ],
   "source": [
    "input_str= input()\n",
    "if is_balanced(input_str):\n",
    "    print(\"Balanced\")\n",
    "else:\n",
    "    print(\"Not Balanced\")"
   ]
  }
 ],
 "metadata": {
  "kernelspec": {
   "display_name": "Python 3",
   "language": "python",
   "name": "python3"
  },
  "language_info": {
   "codemirror_mode": {
    "name": "ipython",
    "version": 3
   },
   "file_extension": ".py",
   "mimetype": "text/x-python",
   "name": "python",
   "nbconvert_exporter": "python",
   "pygments_lexer": "ipython3",
   "version": "3.12.4"
  }
 },
 "nbformat": 4,
 "nbformat_minor": 2
}

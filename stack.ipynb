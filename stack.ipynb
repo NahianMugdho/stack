{
 "cells": [
  {
   "cell_type": "code",
   "execution_count": 2,
   "metadata": {},
   "outputs": [],
   "source": [
    "stack = []\n",
    "\n",
    "# Push\n"
   ]
  },
  {
   "cell_type": "code",
   "execution_count": 3,
   "metadata": {},
   "outputs": [
    {
     "name": "stdout",
     "output_type": "stream",
     "text": [
      "Stack:  ['A', 'B', 'C']\n"
     ]
    }
   ],
   "source": [
    "stack.append('A')\n",
    "stack.append('B')\n",
    "stack.append('C')\n",
    "print(\"Stack: \", stack)"
   ]
  },
  {
   "cell_type": "code",
   "execution_count": 3,
   "metadata": {},
   "outputs": [],
   "source": [
    "li=[]\n"
   ]
  },
  {
   "cell_type": "code",
   "execution_count": 7,
   "metadata": {},
   "outputs": [
    {
     "name": "stdout",
     "output_type": "stream",
     "text": [
      "[1, 1, 1, 2, 1]\n"
     ]
    }
   ],
   "source": [
    "li.append(1)\n",
    "li.append(2)\n",
    "li.pop()\n",
    "print(li)"
   ]
  },
  {
   "cell_type": "code",
   "execution_count": 11,
   "metadata": {},
   "outputs": [
    {
     "ename": "IndexError",
     "evalue": "pop from empty list",
     "output_type": "error",
     "traceback": [
      "\u001b[1;31m---------------------------------------------------------------------------\u001b[0m",
      "\u001b[1;31mIndexError\u001b[0m                                Traceback (most recent call last)",
      "Cell \u001b[1;32mIn[11], line 1\u001b[0m\n\u001b[1;32m----> 1\u001b[0m \u001b[43mli\u001b[49m\u001b[38;5;241;43m.\u001b[39;49m\u001b[43mpop\u001b[49m\u001b[43m(\u001b[49m\u001b[43m)\u001b[49m\n\u001b[0;32m      2\u001b[0m \u001b[38;5;28mprint\u001b[39m(li)\n\u001b[0;32m      3\u001b[0m li\u001b[38;5;241m.\u001b[39mpop()\n",
      "\u001b[1;31mIndexError\u001b[0m: pop from empty list"
     ]
    }
   ],
   "source": [
    "li.pop()\n",
    "print(li)\n",
    "li.pop()\n",
    "print(li)"
   ]
  },
  {
   "cell_type": "code",
   "execution_count": 15,
   "metadata": {},
   "outputs": [],
   "source": [
    "#stack class\n",
    "class Stack:\n",
    "    def __init__(self) :\n",
    "        self.items=[]\n",
    "    def push(self,item):\n",
    "        self.items.append(item)\n",
    "    def pop(self):\n",
    "        return self.items.pop()\n",
    "    def is_empty(self):\n",
    "        if self.items == []:\n",
    "            return True\n",
    "        return False\n",
    "    def stack_print(self):\n",
    "        print(self.items)\n",
    "                "
   ]
  },
  {
   "cell_type": "code",
   "execution_count": 20,
   "metadata": {},
   "outputs": [
    {
     "name": "stdout",
     "output_type": "stream",
     "text": [
      "[1, 2, 3]\n",
      "3\n",
      "2\n",
      "1\n"
     ]
    }
   ],
   "source": [
    "s = Stack()\n",
    "s.push(1)\n",
    "s.push(2)\n",
    "s.push(3)\n",
    "s.stack_print()\n",
    "while not s.is_empty():\n",
    "    item = s.pop()\n",
    "    print(item)"
   ]
  },
  {
   "cell_type": "markdown",
   "metadata": {},
   "source": [
    "This code checks if the brackets (like ( and )) in a sentence are balanced. Balanced means that every opening bracket ( has a matching closing bracket )."
   ]
  },
  {
   "cell_type": "code",
   "execution_count": 21,
   "metadata": {},
   "outputs": [],
   "source": [
    "def is_balanced(input_str):\n",
    "    s = list()\n",
    "    \n",
    "    for ch in input_str:\n",
    "        if ch == '(':\n",
    "            s.append(ch)\n",
    "        if ch == ')':\n",
    "            if not s:\n",
    "                return  False\n",
    "            s.pop()\n",
    "    return not s"
   ]
  },
  {
   "cell_type": "code",
   "execution_count": 23,
   "metadata": {},
   "outputs": [
    {
     "name": "stdout",
     "output_type": "stream",
     "text": [
      "Not Balanced\n"
     ]
    }
   ],
   "source": [
    "input_str= input()\n",
    "if is_balanced(input_str):\n",
    "    print(\"Balanced\")\n",
    "else:\n",
    "    print(\"Not Balanced\")\n",
    "    Hello"
   ]
  },
  {
   "cell_type": "code",
   "execution_count": 1,
   "metadata": {},
   "outputs": [],
   "source": [
    "def is_balanced(input_str):\n",
    "    s = list()\n",
    "    \n",
    "    for ch in input_str:\n",
    "        if ch == '(' or ch == '[' or ch == '{':\n",
    "            s.append(ch)\n",
    "        if ch == ')':\n",
    "            if not s or s[-1] != '(':\n",
    "                return False\n",
    "            s.pop()\n",
    "        if ch == ']':\n",
    "            if not s or s[-1] != '[':\n",
    "                return False\n",
    "            s.pop()\n",
    "        if ch == '}':\n",
    "            if not s or s[-1] != '{':\n",
    "                return False\n",
    "            s.pop()\n",
    "    \n",
    "    return not s"
   ]
  },
  {
   "cell_type": "code",
   "execution_count": 4,
   "metadata": {},
   "outputs": [
    {
     "name": "stdout",
     "output_type": "stream",
     "text": [
      "True\n"
     ]
    }
   ],
   "source": [
    "print(is_balanced(\"{{([])}}\"))  # True"
   ]
  },
  {
   "cell_type": "markdown",
   "metadata": {},
   "source": [
    "Given a string s containing just the characters '(', ')', '{', '}', '[' and ']', determine if the input string is valid.\n",
    "\n",
    "An input string is valid if:\n",
    "\n",
    "Open brackets must be closed by the same type of brackets.\n",
    "Open brackets must be closed in the correct order.\n",
    "Every close bracket has a corresponding open bracket of the same type.\n",
    " \n",
    "\n",
    "Example 1:\n",
    "\n",
    "Input: s = \"()\"\n",
    "Output: true\n",
    "Example 2:\n",
    "\n",
    "Input: s = \"()[]{}\"\n",
    "Output: true\n",
    "Example 3:\n",
    "\n",
    "Input: s = \"(]\"\n",
    "Output: false\n",
    " \n",
    "\n",
    "Constraints:\n",
    "\n",
    "1 <= s.length <= 104\n",
    "s consists of parentheses only '()[]{}'."
   ]
  },
  {
   "cell_type": "code",
   "execution_count": 10,
   "metadata": {},
   "outputs": [
    {
     "name": "stdout",
     "output_type": "stream",
     "text": [
      "False\n"
     ]
    }
   ],
   "source": [
    "def is_balanced(input_str):\n",
    "    s = list()\n",
    "    \n",
    "    for ch in input_str:\n",
    "        if ch =='(' or ch =='[' or ch =='{':\n",
    "            s.append(ch)\n",
    "        if ch == ')':\n",
    "            if not s or s[-1] != '(':\n",
    "                return False\n",
    "            s.pop()\n",
    "# This checks two things:\n",
    "# If s is empty (not s), meaning there's no opening bracket to match this closing bracket.\n",
    "# If the last thing we put in s (the top item in the box) isn’t the matching opening parenthesis (.If either of these is true, it means something is wrong, so we return False.\n",
    "#s.pop()\n",
    "# If everything is okay, this line removes the last item we put in s, which is the matching opening parenthesis.\n",
    "# It’s like saying, \"We found the matching pair, so let’s take it out of the box.\"\n",
    "        if ch == ']':\n",
    "            if not s or s[-1] != '[':\n",
    "                return False\n",
    "            s.pop()\n",
    "        if ch == '}':\n",
    "            if not s or s[-1] != '{':\n",
    "                return False\n",
    "            s.pop()\n",
    "    return not s\n",
    "\n",
    "# return not s\n",
    "# After we’ve looked at every character, this line checks if s is empty.\n",
    "# If s is empty, it means every opening bracket had a matching closing bracket, so the brackets are balanced, and we return True.\n",
    "# If s is not empty, it means some opening brackets didn’t have matching closing brackets, so we return False.\n",
    "\n",
    "\n",
    "print(is_balanced(\"([]})\"))            \n",
    "    "
   ]
  },
  {
   "cell_type": "code",
   "execution_count": null,
   "metadata": {},
   "outputs": [],
   "source": [
    "\n",
    "# Leetcode submission : \n",
    "class Solution(object):\n",
    "    def isValid(self, s):\n",
    "        stack = list()\n",
    "    \n",
    "        for ch in s:\n",
    "            if ch =='(' or ch =='[' or ch =='{':\n",
    "                stack.append(ch)\n",
    "            if ch == ')':\n",
    "                if not stack or stack[-1] != '(':\n",
    "                    return False\n",
    "                stack.pop()\n",
    "            if ch == ']':\n",
    "                if not stack or stack[-1] != '[':\n",
    "                    return False\n",
    "                stack.pop()\n",
    "            if ch == '}':\n",
    "                if not stack or stack[-1] != '{':\n",
    "                    return False\n",
    "                stack.pop()\n",
    "        return not stack\n",
    "            "
   ]
  },
  {
   "cell_type": "markdown",
   "metadata": {},
   "source": [
    "Given an absolute path for a Unix-style file system, which begins with a slash '/', transform this path into its simplified canonical path.\n",
    "\n",
    "In Unix-style file system context, a single period '.' signifies the current directory, a double period \"..\" denotes moving up one directory level, and multiple slashes such as \"//\" are interpreted as a single slash. In this problem, treat sequences of periods not covered by the previous rules (like \"...\") as valid names for files or directories.\n",
    "\n",
    "The simplified canonical path should adhere to the following rules:\n",
    "\n",
    "It must start with a single slash '/'.\n",
    "Directories within the path should be separated by only one slash '/'.\n",
    "It should not end with a slash '/', unless it's the root directory.\n",
    "It should exclude any single or double periods used to denote current or parent directories.\n",
    "Return the new path.\n",
    "\n",
    " \n",
    "\n",
    "Example 1:\n",
    "\n",
    "Input: path = \"/home/\"\n",
    "\n",
    "Output: \"/home\"\n",
    "\n",
    "Explanation:\n",
    "\n",
    "The trailing slash should be removed.\n",
    "\n",
    "Example 2:\n",
    "\n",
    "Input: path = \"/home//foo/\"\n",
    "\n",
    "Output: \"/home/foo\"\n",
    "\n",
    "Explanation:\n",
    "\n",
    "Multiple consecutive slashes are replaced by a single one.\n",
    "\n",
    "Example 3:\n",
    "\n",
    "Input: path = \"/home/user/Documents/../Pictures\"\n",
    "\n",
    "Output: \"/home/user/Pictures\"\n",
    "\n",
    "Explanation:\n",
    "\n",
    "A double period \"..\" refers to the directory up a level.\n",
    "\n",
    "Example 4:\n",
    "\n",
    "Input: path = \"/../\"\n",
    "\n",
    "Output: \"/\"\n",
    "\n",
    "Explanation:\n",
    "\n",
    "Going one level up from the root directory is not possible.\n",
    "\n",
    "Example 5:\n",
    "\n",
    "Input: path = \"/.../a/../b/c/../d/./\"\n",
    "\n",
    "Output: \"/.../b/d\"\n",
    "\n",
    "Explanation:\n",
    "\n",
    "\"...\" is a valid name for a directory in this problem.\n",
    "\n",
    " \n",
    "\n",
    "Constraints:\n",
    "\n",
    "1 <= path.length <= 3000\n",
    "path consists of English letters, digits, period '.', slash '/' or '_'.\n",
    "path is a valid absolute Unix path."
   ]
  },
  {
   "cell_type": "code",
   "execution_count": 9,
   "metadata": {},
   "outputs": [],
   "source": [
    "class Solution(object):\n",
    "    def simplifyPath(self,path):\n",
    "        stack = []  # স্ট্যাক তৈরি করুন\n",
    "        \n",
    "        # পাথটিকে স্ল্যাশ দ্বারা বিভক্ত করুন\n",
    "        parts = path.split('/')\n",
    "        \n",
    "        for part in parts:\n",
    "            if part == '' or part == '.':\n",
    "                # খালি অংশ বা বর্তমান ডিরেক্টরি কিছুই করা লাগবে না\n",
    "                continue\n",
    "            elif part == '..':\n",
    "                # প্যারেন্ট ডিরেক্টরি হলে স্ট্যাক থেকে একটি ডিরেক্টরি অপসারণ করুন । এটাই উপরে তুলে নিবে\n",
    "                if stack:\n",
    "                    stack.pop()\n",
    "            else:\n",
    "                # অন্য কিছু হলে স্ট্যাকে যোগ করুন\n",
    "                stack.append(part)\n",
    "        \n",
    "        # স্ট্যাক থেকে পাথ তৈরি করুন\n",
    "        return '/' + '/'.join(stack)\n",
    "    "
   ]
  },
  {
   "cell_type": "code",
   "execution_count": 11,
   "metadata": {},
   "outputs": [
    {
     "name": "stdout",
     "output_type": "stream",
     "text": [
      "/home/docs\n",
      "/\n"
     ]
    }
   ],
   "source": [
    "solution = Solution()\n",
    "\n",
    "# ইনপুট পাথের উদাহরণগুলো\n",
    "print(solution.simplifyPath(\"/home//user/../docs/./\")) \n",
    "print(solution.simplifyPath(\"/../\"))   "
   ]
  },
  {
   "cell_type": "markdown",
   "metadata": {},
   "source": [
    "Design a stack that supports push, pop, top, and retrieving the minimum element in constant time.\n",
    "\n",
    "Implement the MinStack class:\n",
    "\n",
    "MinStack() initializes the stack object.\n",
    "void push(int val) pushes the element val onto the stack.\n",
    "void pop() removes the element on the top of the stack.\n",
    "int top() gets the top element of the stack.\n",
    "int getMin() retrieves the minimum element in the stack.\n",
    "You must implement a solution with O(1) time complexity for each function.\n",
    "\n",
    " \n",
    "\n",
    "Example 1:\n",
    "\n",
    "Input\n",
    "[\"MinStack\",\"push\",\"push\",\"push\",\"getMin\",\"pop\",\"top\",\"getMin\"]\n",
    "[[],[-2],[0],[-3],[],[],[],[]]\n",
    "\n",
    "Output\n",
    "[null,null,null,null,-3,null,0,-2]\n",
    "\n",
    "Explanation\n",
    "MinStack minStack = new MinStack();\n",
    "minStack.push(-2);\n",
    "minStack.push(0);\n",
    "minStack.push(-3);\n",
    "minStack.getMin(); // return -3\n",
    "minStack.pop();\n",
    "minStack.top();    // return 0\n",
    "minStack.getMin(); // return -2\n",
    " \n",
    "\n",
    "Constraints:\n",
    "\n",
    "-231 <= val <= 231 - 1\n",
    "Methods pop, top and getMin operations will always be called on non-empty stacks.\n",
    "At most 3 * 104 calls will be made to push, pop, top, and getMin."
   ]
  },
  {
   "cell_type": "code",
   "execution_count": 20,
   "metadata": {},
   "outputs": [],
   "source": [
    "class MinStack(object):\n",
    "\n",
    "    def __init__(self):\n",
    "        self.stack =[]\n",
    "        self.min_stack=[]\n",
    "        \n",
    "\n",
    "    def push(self, val):\n",
    "       self.stack.append(val)\n",
    "       if not self.min_stack or val <= self.min_stack[-1]:\n",
    "            self.min_stack.append(val)\n",
    "            \n",
    "# এই অংশে, আমরা আমাদের বড় বাক্স \"stack\"-এ নতুন জিনিস (val) রাখছি। যখন আমরা কিছু রাখি, আমরা এটিও দেখতে চাই এটি সবচেয়ে ছোট জিনিস কিনা।\n",
    "\n",
    "# যদি আমাদের ছোট জিনিসের বাক্স \"min_stack\" খালি থাকে অথবা নতুন জিনিস (val) আমাদের আগের সবচেয়ে ছোট জিনিসের চেয়ে ছোট হয়, তাহলে আমরা নতুন জিনিসটিকে ছোট জিনিসের বাক্সেও রাখি। ':'\n",
    "\n",
    "    def pop(self):\n",
    "       if self.stack:\n",
    "            if self.stack[-1] == self.min_stack[-1]:\n",
    "                self.min_stack.pop()  # সর্বনিম্ন স্ট্যাক থেকেও সরিয়ে ফেলুন\n",
    "            self.stack.pop()\n",
    "        \n",
    "\n",
    "    def top(self):\n",
    "        # শীর্ষ মানটি ফিরিয়ে দিন\n",
    "        return self.stack[-1] if self.stack else None\n",
    "    #  এই অংশে, আমরা আমাদের বড় বাক্স \"stack\" -এর উপরে রয়েছে এমন জিনিসটি দেখতে চাই কিন্তু বের করতে চাই না। যদি বাক্সটি খালি থাকে, তাহলে আমরা \"None\" ফেরত দিই।   \n",
    "\n",
    "    def getMin(self):\n",
    "      \n",
    "         # সর্বনিম্ন মানটি ফিরিয়ে দিন\n",
    "        return self.min_stack[-1] if self.min_stack else None\n",
    "# এই অংশে, আমরা আমাদের ছোট জিনিসের বাক্স \"min_stack\" -এর সবচেয়ে ছোট জিনিসটি দেখতে চাই। যদি ছোট জিনিসের বাক্সটি খালি থাকে, তাহলে আমরা \"None\" ফেরত দিই।\n",
    "# Your MinStack object will be instantiated and called as such:\n",
    "# obj = MinStack()\n",
    "# obj.push(val)\n",
    "# obj.pop()\n",
    "# param_3 = obj.top()\n",
    "# param_4 = obj.getMin()\n",
    "    def print_stacks(self):\n",
    "        print(\"Main stack:\", self.stack)\n",
    "        print(\"Min stack:\", self.min_stack)"
   ]
  },
  {
   "cell_type": "code",
   "execution_count": 27,
   "metadata": {},
   "outputs": [
    {
     "name": "stdout",
     "output_type": "stream",
     "text": [
      "Main stack: [1, 2, -2]\n",
      "Min stack: [1, -2]\n"
     ]
    },
    {
     "data": {
      "text/plain": [
       "-2"
      ]
     },
     "execution_count": 27,
     "metadata": {},
     "output_type": "execute_result"
    }
   ],
   "source": [
    "obj = MinStack()\n",
    "obj.push(1)\n",
    "obj.push(2)\n",
    "obj.push(-2)\n",
    "obj.print_stacks() \n",
    "obj.getMin()\n",
    "obj.top()\n",
    "\n"
   ]
  }
 ],
 "metadata": {
  "kernelspec": {
   "display_name": "Python 3",
   "language": "python",
   "name": "python3"
  },
  "language_info": {
   "codemirror_mode": {
    "name": "ipython",
    "version": 3
   },
   "file_extension": ".py",
   "mimetype": "text/x-python",
   "name": "python",
   "nbconvert_exporter": "python",
   "pygments_lexer": "ipython3",
   "version": "3.12.4"
  }
 },
 "nbformat": 4,
 "nbformat_minor": 2
}

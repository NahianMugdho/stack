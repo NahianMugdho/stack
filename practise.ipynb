{
 "cells": [
  {
   "cell_type": "markdown",
   "metadata": {},
   "source": [
    "আপনাকে এমন একটি স্ট্যাক ডিজাইন করতে বলা হয়েছে যা চারটি কার্যক্রম (operations) সমর্থন করবে: push, pop, top, এবং getMin। এই চারটি কাজের সময় জটিলতা (time complexity) O(1) থাকতে হবে, অর্থাৎ প্রতিটি কাজ স্থায়ী সময়ে (constant time) সম্পন্ন হবে।\n",
    "\n",
    "MinStack ক্লাসের সংক্ষিপ্ত বিবরণ:\n",
    "MinStack():\n",
    "\n",
    "এটি স্ট্যাক অবজেক্টটি ইনিশিয়ালাইজ করবে।\n",
    "void push(int val):\n",
    "\n",
    "এটি val মানটিকে স্ট্যাকে যুক্ত করবে।\n",
    "void pop():\n",
    "\n",
    "এটি স্ট্যাকের শীর্ষে থাকা উপাদানটি সরাবে।\n",
    "int top():\n",
    "\n",
    "এটি স্ট্যাকের শীর্ষ উপাদানটি ফিরিয়ে দেবে।\n",
    "int getMin():\n",
    "\n",
    "এটি স্ট্যাকের মধ্যে থাকা সর্বনিম্ন উপাদানটি ফিরিয়ে দেবে।"
   ]
  },
  {
   "cell_type": "code",
   "execution_count": 2,
   "metadata": {},
   "outputs": [],
   "source": [
    "class MinStack(object):\n",
    "    def __init__(self) -> None:\n",
    "        self.stack = []\n",
    "        self.min_stack=[]\n",
    "    def push(self,val):\n",
    "        self.stack.append(val)\n",
    "        if not self.min_stack or val <= self.min_stack[-1]:\n",
    "            self.min_stack.append(val)\n",
    "    def pop (self):\n",
    "        if self.stack:\n",
    "            if self.stack[-1] == self.min_stack[-1]:\n",
    "                self.min_stack.pop()\n",
    "        self.stack.pop()\n",
    "    def top(self):\n",
    "        if self.stack:\n",
    "            return self.stack[-1]  \n",
    "        else:\n",
    "            None\n",
    "    def getMin(self):\n",
    "        if self.min_stack:\n",
    "            return self.min_stack[-1]  \n",
    "        else:\n",
    "            None\n",
    "    def print_stacks(self):\n",
    "        print(\"Main stack:\", self.stack)\n",
    "        print(\"Min stack:\", self.min_stack)\n",
    "        \n",
    "    "
   ]
  },
  {
   "cell_type": "code",
   "execution_count": 5,
   "metadata": {},
   "outputs": [
    {
     "name": "stdout",
     "output_type": "stream",
     "text": [
      "Main stack: [3]\n",
      "Min stack: [3]\n"
     ]
    }
   ],
   "source": [
    "obj = MinStack()\n",
    "obj.push(3)\n",
    "obj.print_stacks()"
   ]
  }
 ],
 "metadata": {
  "kernelspec": {
   "display_name": "Python 3",
   "language": "python",
   "name": "python3"
  },
  "language_info": {
   "codemirror_mode": {
    "name": "ipython",
    "version": 3
   },
   "file_extension": ".py",
   "mimetype": "text/x-python",
   "name": "python",
   "nbconvert_exporter": "python",
   "pygments_lexer": "ipython3",
   "version": "3.12.4"
  }
 },
 "nbformat": 4,
 "nbformat_minor": 2
}
